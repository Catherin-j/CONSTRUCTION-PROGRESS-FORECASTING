{
 "cells": [
  {
   "cell_type": "code",
   "execution_count": null,
   "id": "8e80cff6-850a-443d-a221-440afab69fad",
   "metadata": {},
   "outputs": [],
   "source": [
    "{\n",
    "  \"cell_type\": \"code\",\n",
    "  \"execution_count\": None,\n",
    "  \"metadata\": {},\n",
    "  \"outputs\": [],\n",
    "  \"source\": [\n",
    "    \"import os\\n\",\n",
    "    \"import numpy as np\\n\",\n",
    "    \"import torch\\n\",\n",
    "    \"import glob\\n\",\n",
    "    \"import torch.nn as nn\\n\"\n",
    "  ]\n",
    "}"
   ]
  }
 ],
 "metadata": {
  "kernelspec": {
   "display_name": "Python 3 (ipykernel)",
   "language": "python",
   "name": "python3"
  },
  "language_info": {
   "codemirror_mode": {
    "name": "ipython",
    "version": 3
   },
   "file_extension": ".py",
   "mimetype": "text/x-python",
   "name": "python",
   "nbconvert_exporter": "python",
   "pygments_lexer": "ipython3",
   "version": "3.12.3"
  }
 },
 "nbformat": 4,
 "nbformat_minor": 5
}
