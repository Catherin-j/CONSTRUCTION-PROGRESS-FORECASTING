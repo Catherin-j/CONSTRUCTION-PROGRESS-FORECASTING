{
 "cells": [
  {
   "cell_type": "code",
   "execution_count": 1,
   "id": "e6bcda08-c7b2-40ae-8a19-ba5413fa3ca5",
   "metadata": {},
   "outputs": [],
   "source": [
    "import torch\n",
    "import torch.nn as nn\n",
    "from torchvision.transforms import transforms\n",
    "import numpy as np\n",
    "from torch.autograd import Variable\n",
    "from torchvision.models import squeezenet1_1\n",
    "import torch.functional as F\n",
    "from io import open\n",
    "import os\n",
    "from PIL import Image\n",
    "import pathlib\n",
    "import glob\n",
    "import cv2"
   ]
  },
  {
   "cell_type": "code",
   "execution_count": 29,
   "id": "72c00e8a-29e2-4aeb-84c8-983a18d0776b",
   "metadata": {},
   "outputs": [],
   "source": [
    "train_path='C:\\\\Users\\\\LENOVO\\\\OneDrive\\\\Desktop\\\\computer vision\\\\training'\n",
    "pred_path='C:\\\\Users\\\\LENOVO\\\\OneDrive\\\\Desktop\\\\computer vision\\\\validation'"
   ]
  },
  {
   "cell_type": "code",
   "execution_count": 7,
   "id": "277fdb7b-31b2-481c-bb53-601a9469cb26",
   "metadata": {},
   "outputs": [],
   "source": [
    "#categories\n",
    "root=pathlib.Path(train_path)\n",
    "classes=sorted([j.name.split('/')[-1] for j in root.iterdir()])"
   ]
  },
  {
   "cell_type": "code",
   "execution_count": 8,
   "id": "b0db11d7-474b-41a9-bde9-573c55aac5ef",
   "metadata": {},
   "outputs": [],
   "source": [
    "#CNN Network\n",
    "\n",
    "\n",
    "class ConvNet(nn.Module):\n",
    "    def __init__(self,num_classes=6):\n",
    "        super(ConvNet,self).__init__()\n",
    "        \n",
    "        #Output size after convolution filter\n",
    "        #((w-f+2P)/s) +1\n",
    "        \n",
    "        #Input shape= (256,3,150,150)\n",
    "        \n",
    "        self.conv1=nn.Conv2d(in_channels=3,out_channels=12,kernel_size=3,stride=1,padding=1)\n",
    "        #Shape= (256,12,150,150)\n",
    "        self.bn1=nn.BatchNorm2d(num_features=12)\n",
    "        #Shape= (256,12,150,150)\n",
    "        self.relu1=nn.ReLU()\n",
    "        #Shape= (256,12,150,150)\n",
    "        \n",
    "        self.pool=nn.MaxPool2d(kernel_size=2)\n",
    "        #Reduce the image size be factor 2\n",
    "        #Shape= (256,12,75,75)\n",
    "        \n",
    "        \n",
    "        self.conv2=nn.Conv2d(in_channels=12,out_channels=20,kernel_size=3,stride=1,padding=1)\n",
    "        #Shape= (256,20,75,75)\n",
    "        self.relu2=nn.ReLU()\n",
    "        #Shape= (256,20,75,75)\n",
    "        \n",
    "        \n",
    "        \n",
    "        self.conv3=nn.Conv2d(in_channels=20,out_channels=32,kernel_size=3,stride=1,padding=1)\n",
    "        #Shape= (256,32,75,75)\n",
    "        self.bn3=nn.BatchNorm2d(num_features=32)\n",
    "        #Shape= (256,32,75,75)\n",
    "        self.relu3=nn.ReLU()\n",
    "        #Shape= (256,32,75,75)\n",
    "        \n",
    "        \n",
    "        self.fc=nn.Linear(in_features=75 * 75 * 32,out_features=num_classes)\n",
    "        \n",
    "        \n",
    "        \n",
    "        #Feed forwad function\n",
    "        \n",
    "    def forward(self,input):\n",
    "        output=self.conv1(input)\n",
    "        output=self.bn1(output)\n",
    "        output=self.relu1(output)\n",
    "            \n",
    "        output=self.pool(output)\n",
    "            \n",
    "        output=self.conv2(output)\n",
    "        output=self.relu2(output)\n",
    "            \n",
    "        output=self.conv3(output)\n",
    "        output=self.bn3(output)\n",
    "        output=self.relu3(output)\n",
    "            \n",
    "            \n",
    "            #Above output will be in matrix form, with shape (256,32,75,75)\n",
    "            \n",
    "        output=output.view(-1,32*75*75)\n",
    "            \n",
    "            \n",
    "        output=self.fc(output)\n",
    "            \n",
    "        return output\n",
    "            "
   ]
  },
  {
   "cell_type": "code",
   "execution_count": 19,
   "id": "61c98158",
   "metadata": {},
   "outputs": [
    {
     "data": {
      "text/plain": [
       "ConvNet(\n",
       "  (conv1): Conv2d(3, 12, kernel_size=(3, 3), stride=(1, 1), padding=(1, 1))\n",
       "  (bn1): BatchNorm2d(12, eps=1e-05, momentum=0.1, affine=True, track_running_stats=True)\n",
       "  (relu1): ReLU()\n",
       "  (pool): MaxPool2d(kernel_size=2, stride=2, padding=0, dilation=1, ceil_mode=False)\n",
       "  (conv2): Conv2d(12, 20, kernel_size=(3, 3), stride=(1, 1), padding=(1, 1))\n",
       "  (relu2): ReLU()\n",
       "  (conv3): Conv2d(20, 32, kernel_size=(3, 3), stride=(1, 1), padding=(1, 1))\n",
       "  (bn3): BatchNorm2d(32, eps=1e-05, momentum=0.1, affine=True, track_running_stats=True)\n",
       "  (relu3): ReLU()\n",
       "  (fc): Linear(in_features=180000, out_features=4, bias=True)\n",
       ")"
      ]
     },
     "execution_count": 19,
     "metadata": {},
     "output_type": "execute_result"
    }
   ],
   "source": [
    "checkpoint=torch.load('best_checkpoint.model')\n",
    "model=ConvNet(num_classes=4)\n",
    "model.load_state_dict(checkpoint)\n",
    "model.eval()"
   ]
  },
  {
   "cell_type": "code",
   "execution_count": 20,
   "id": "9fbe8afa",
   "metadata": {},
   "outputs": [],
   "source": [
    "#Transforms\n",
    "transformer=transforms.Compose([\n",
    "    transforms.Resize((150,150)),\n",
    "    transforms.ToTensor(),  #0-255 to 0-1, numpy to tensors\n",
    "    transforms.Normalize([0.5,0.5,0.5], # 0-1 to [-1,1] , formula (x-mean)/std\n",
    "                        [0.5,0.5,0.5])\n",
    "])"
   ]
  },
  {
   "cell_type": "code",
   "execution_count": 21,
   "id": "4830365f",
   "metadata": {},
   "outputs": [],
   "source": [
    "#prediction function\n",
    "def prediction(img_path,transformer):\n",
    "    \n",
    "    image=Image.open(img_path)\n",
    "    \n",
    "    image_tensor=transformer(image).float()\n",
    "    \n",
    "    \n",
    "    image_tensor=image_tensor.unsqueeze_(0)\n",
    "    \n",
    "    if torch.cuda.is_available():\n",
    "        image_tensor.cuda()\n",
    "        \n",
    "    input=Variable(image_tensor)\n",
    "    \n",
    "    \n",
    "    output=model(input)\n",
    "    \n",
    "    index=output.data.numpy().argmax()\n",
    "    \n",
    "    pred=classes[index]\n",
    "    \n",
    "    return pred\n",
    "    "
   ]
  },
  {
   "cell_type": "code",
   "execution_count": 30,
   "id": "d77895d0",
   "metadata": {},
   "outputs": [],
   "source": [
    "images_path=glob.glob(pred_path+'/*.jpg')"
   ]
  },
  {
   "cell_type": "code",
   "execution_count": 31,
   "id": "ab4f6d1b",
   "metadata": {},
   "outputs": [],
   "source": [
    "pred_dict={}\n",
    "\n",
    "for i in images_path:\n",
    "    pred_dict[i[i.rfind('/')+1:]]=prediction(i,transformer)"
   ]
  },
  {
   "cell_type": "code",
   "execution_count": 32,
   "id": "65046213",
   "metadata": {},
   "outputs": [
    {
     "data": {
      "text/plain": [
       "{'C:\\\\Users\\\\LENOVO\\\\OneDrive\\\\Desktop\\\\computer vision\\\\validation\\\\Image_1.jpg': '100%',\n",
       " 'C:\\\\Users\\\\LENOVO\\\\OneDrive\\\\Desktop\\\\computer vision\\\\validation\\\\Image_10.jpg': '30%',\n",
       " 'C:\\\\Users\\\\LENOVO\\\\OneDrive\\\\Desktop\\\\computer vision\\\\validation\\\\Image_11.jpg': '90%',\n",
       " 'C:\\\\Users\\\\LENOVO\\\\OneDrive\\\\Desktop\\\\computer vision\\\\validation\\\\Image_18.jpg': '30%',\n",
       " 'C:\\\\Users\\\\LENOVO\\\\OneDrive\\\\Desktop\\\\computer vision\\\\validation\\\\Image_2.jpg': '30%',\n",
       " 'C:\\\\Users\\\\LENOVO\\\\OneDrive\\\\Desktop\\\\computer vision\\\\validation\\\\Image_28.jpg': '100%',\n",
       " 'C:\\\\Users\\\\LENOVO\\\\OneDrive\\\\Desktop\\\\computer vision\\\\validation\\\\Image_29.jpg': '100%',\n",
       " 'C:\\\\Users\\\\LENOVO\\\\OneDrive\\\\Desktop\\\\computer vision\\\\validation\\\\Image_30.jpg': '60%',\n",
       " 'C:\\\\Users\\\\LENOVO\\\\OneDrive\\\\Desktop\\\\computer vision\\\\validation\\\\Image_31.jpg': '30%',\n",
       " 'C:\\\\Users\\\\LENOVO\\\\OneDrive\\\\Desktop\\\\computer vision\\\\validation\\\\Image_32.jpg': '60%',\n",
       " 'C:\\\\Users\\\\LENOVO\\\\OneDrive\\\\Desktop\\\\computer vision\\\\validation\\\\Image_33.jpg': '100%',\n",
       " 'C:\\\\Users\\\\LENOVO\\\\OneDrive\\\\Desktop\\\\computer vision\\\\validation\\\\Image_34.jpg': '100%',\n",
       " 'C:\\\\Users\\\\LENOVO\\\\OneDrive\\\\Desktop\\\\computer vision\\\\validation\\\\Image_36.JPG': '90%',\n",
       " 'C:\\\\Users\\\\LENOVO\\\\OneDrive\\\\Desktop\\\\computer vision\\\\validation\\\\Image_37.jpg': '30%',\n",
       " 'C:\\\\Users\\\\LENOVO\\\\OneDrive\\\\Desktop\\\\computer vision\\\\validation\\\\Image_38.jpg': '100%',\n",
       " 'C:\\\\Users\\\\LENOVO\\\\OneDrive\\\\Desktop\\\\computer vision\\\\validation\\\\Image_39.jpg': '30%',\n",
       " 'C:\\\\Users\\\\LENOVO\\\\OneDrive\\\\Desktop\\\\computer vision\\\\validation\\\\Image_40.jpg': '30%',\n",
       " 'C:\\\\Users\\\\LENOVO\\\\OneDrive\\\\Desktop\\\\computer vision\\\\validation\\\\Image_41.jpg': '60%',\n",
       " 'C:\\\\Users\\\\LENOVO\\\\OneDrive\\\\Desktop\\\\computer vision\\\\validation\\\\Image_42.jpg': '60%',\n",
       " 'C:\\\\Users\\\\LENOVO\\\\OneDrive\\\\Desktop\\\\computer vision\\\\validation\\\\Image_44.jpg': '60%',\n",
       " 'C:\\\\Users\\\\LENOVO\\\\OneDrive\\\\Desktop\\\\computer vision\\\\validation\\\\Image_45.jpg': '30%',\n",
       " 'C:\\\\Users\\\\LENOVO\\\\OneDrive\\\\Desktop\\\\computer vision\\\\validation\\\\Image_46.jpg': '100%',\n",
       " 'C:\\\\Users\\\\LENOVO\\\\OneDrive\\\\Desktop\\\\computer vision\\\\validation\\\\Image_47.jpg': '90%',\n",
       " 'C:\\\\Users\\\\LENOVO\\\\OneDrive\\\\Desktop\\\\computer vision\\\\validation\\\\Image_49.jpg': '100%',\n",
       " 'C:\\\\Users\\\\LENOVO\\\\OneDrive\\\\Desktop\\\\computer vision\\\\validation\\\\Image_5.jpg': '100%',\n",
       " 'C:\\\\Users\\\\LENOVO\\\\OneDrive\\\\Desktop\\\\computer vision\\\\validation\\\\Image_50.jpg': '100%',\n",
       " 'C:\\\\Users\\\\LENOVO\\\\OneDrive\\\\Desktop\\\\computer vision\\\\validation\\\\Image_6.jpg': '30%',\n",
       " 'C:\\\\Users\\\\LENOVO\\\\OneDrive\\\\Desktop\\\\computer vision\\\\validation\\\\Image_7.jpg': '60%',\n",
       " 'C:\\\\Users\\\\LENOVO\\\\OneDrive\\\\Desktop\\\\computer vision\\\\validation\\\\Image_8.jpg': '30%',\n",
       " 'C:\\\\Users\\\\LENOVO\\\\OneDrive\\\\Desktop\\\\computer vision\\\\validation\\\\pexels-messalaciulla-1114226.jpg': '60%',\n",
       " 'C:\\\\Users\\\\LENOVO\\\\OneDrive\\\\Desktop\\\\computer vision\\\\validation\\\\pexels-orlandoallo-2273488 (1).jpg': '90%',\n",
       " 'C:\\\\Users\\\\LENOVO\\\\OneDrive\\\\Desktop\\\\computer vision\\\\validation\\\\pexels-orlandoallo-2273488.jpg': '90%',\n",
       " 'C:\\\\Users\\\\LENOVO\\\\OneDrive\\\\Desktop\\\\computer vision\\\\validation\\\\pexels-pashakres-1696261.jpg': '60%',\n",
       " 'C:\\\\Users\\\\LENOVO\\\\OneDrive\\\\Desktop\\\\computer vision\\\\validation\\\\pexels-pixabay-207142.jpg': '60%',\n",
       " 'C:\\\\Users\\\\LENOVO\\\\OneDrive\\\\Desktop\\\\computer vision\\\\validation\\\\pexels-pixabay-220182.jpg': '60%',\n",
       " 'C:\\\\Users\\\\LENOVO\\\\OneDrive\\\\Desktop\\\\computer vision\\\\validation\\\\pexels-readymade-3964474.jpg': '90%',\n",
       " 'C:\\\\Users\\\\LENOVO\\\\OneDrive\\\\Desktop\\\\computer vision\\\\validation\\\\pexels-readymade-3964835.jpg': '90%',\n",
       " 'C:\\\\Users\\\\LENOVO\\\\OneDrive\\\\Desktop\\\\computer vision\\\\validation\\\\pexels-shonejai-445753-1227515.jpg': '30%'}"
      ]
     },
     "execution_count": 32,
     "metadata": {},
     "output_type": "execute_result"
    }
   ],
   "source": [
    "pred_dict"
   ]
  },
  {
   "cell_type": "code",
   "execution_count": null,
   "id": "c6188155",
   "metadata": {},
   "outputs": [],
   "source": []
  }
 ],
 "metadata": {
  "kernelspec": {
   "display_name": "Python 3 (ipykernel)",
   "language": "python",
   "name": "python3"
  },
  "language_info": {
   "codemirror_mode": {
    "name": "ipython",
    "version": 3
   },
   "file_extension": ".py",
   "mimetype": "text/x-python",
   "name": "python",
   "nbconvert_exporter": "python",
   "pygments_lexer": "ipython3",
   "version": "3.12.3"
  }
 },
 "nbformat": 4,
 "nbformat_minor": 5
}
